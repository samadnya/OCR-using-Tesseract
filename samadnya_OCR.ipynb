{
 "cells": [
  {
   "cell_type": "code",
   "execution_count": 1,
   "metadata": {},
   "outputs": [],
   "source": [
    "\n",
    "import cv2\n",
    "try:\n",
    "    from PIL import Image\n",
    "except ImportError:\n",
    "    import Image\n",
    "import pytesseract\n"
   ]
  },
  {
   "cell_type": "code",
   "execution_count": 4,
   "metadata": {},
   "outputs": [
    {
     "name": "stdout",
     "output_type": "stream",
     "text": [
      "Enter the file path : C:\\Users\\samad\\Softsensor\\image.png\n",
      "Hello.\n",
      "OCR Text is Hello.\n"
     ]
    }
   ],
   "source": [
    "def main():\n",
    "    # Get File Name from Command Line\n",
    "    path = input(\"Enter the file path : \").strip()  #m to remove whitespaces\n",
    "    \n",
    "    # Load the required image\n",
    "    image = cv2.imread(path) \n",
    "    gray = cv2.cvtColor(image, cv2.COLOR_BGR2GRAY)  # for better recognition\n",
    "    \n",
    "    filename = \"{}.png\".format(\"temp\")\n",
    "    cv2.imwrite(filename, gray)\n",
    "\n",
    "    # Load the image as a PIL/Pillow image, apply OCR, and then delete the temporary file\n",
    "    text = pytesseract.image_to_string(Image.open(filename))\n",
    "    print(text)\n",
    "    print(\"OCR Text is \" + text)\n",
    "\n",
    "\n",
    "try:\n",
    "    main()\n",
    "except Exception as e:\n",
    "    print(e.args)\n",
    "    print(e.__cause__)"
   ]
  },
  {
   "cell_type": "code",
   "execution_count": null,
   "metadata": {},
   "outputs": [],
   "source": []
  },
  {
   "cell_type": "code",
   "execution_count": null,
   "metadata": {},
   "outputs": [],
   "source": []
  }
 ],
 "metadata": {
  "kernelspec": {
   "display_name": "Python 3",
   "language": "python",
   "name": "python3"
  },
  "language_info": {
   "codemirror_mode": {
    "name": "ipython",
    "version": 3
   },
   "file_extension": ".py",
   "mimetype": "text/x-python",
   "name": "python",
   "nbconvert_exporter": "python",
   "pygments_lexer": "ipython3",
   "version": "3.6.5"
  }
 },
 "nbformat": 4,
 "nbformat_minor": 2
}
